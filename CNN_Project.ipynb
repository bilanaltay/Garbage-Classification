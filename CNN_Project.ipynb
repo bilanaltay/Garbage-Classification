{
 "cells": [
  {
   "cell_type": "code",
   "execution_count": 63,
   "metadata": {},
   "outputs": [],
   "source": [
    "import torch\n",
    "import torch.optim as optim\n",
    "import numpy as np\n",
    "import random\n",
    "import glob\n",
    "from torch.utils.data import Dataset, DataLoader\n",
    "from PIL import Image\n",
    "import torch.nn as nn\n",
    "from torchvision.datasets import ImageFolder\n",
    "import torchvision.transforms as transforms\n",
    "from torchvision.utils import save_image \n",
    "from PIL import Image\n",
    "import os"
   ]
  },
  {
   "cell_type": "code",
   "execution_count": 77,
   "metadata": {},
   "outputs": [],
   "source": [
    "class GarbageDataset(Dataset):\n",
    "    def __init__(self, paths):\n",
    "        self.paths = paths\n",
    "        self.labels = {\"cardboard\": 0,\n",
    "          \"glass\": 1,\n",
    "          \"metal\": 2,\n",
    "          \"paper\": 3,\n",
    "          \"plastic\": 4,\n",
    "          \"trash\": 5}\n",
    "\n",
    "    def __len__(self):\n",
    "        return len(self.paths)\n",
    "\n",
    "    def __getitem__(self, index):\n",
    "        x = self.paths[index]\n",
    "        label = x.split(\"\\\\\")[-2]\n",
    "        label = self.labels[label]\n",
    "    \n",
    "        img = Image.open(x)\n",
    "        img = img.resize((256,256))\n",
    "        img = np.array(img)\n",
    "        img = np.reshape(img,(3,256,256))\n",
    "        \n",
    "        return torch.tensor(img,dtype= torch.float32), torch.tensor(label,dtype= torch.float32)"
   ]
  },
  {
   "cell_type": "code",
   "execution_count": null,
   "metadata": {},
   "outputs": [],
   "source": [
    "import os\n",
    "path = (\"Garbage classification\")\n",
    "\n",
    "if not os.path.exists(path):\n",
    "    print(\"Belirtilen yol mevcut değil!\")"
   ]
  },
  {
   "cell_type": "code",
   "execution_count": 79,
   "metadata": {},
   "outputs": [],
   "source": [
    "all_path = glob.glob(\"C:\\\\Users\\\\Sisasoft\\\\Desktop\\\\GarbageProject\\\\Garbage classification\\\\*\\\\*\")"
   ]
  },
  {
   "cell_type": "code",
   "execution_count": 80,
   "metadata": {},
   "outputs": [],
   "source": [
    "while len(all_path)<=15000:\n",
    "    random.shuffle(all_path)\n",
    "    for i in range(len(all_path)):\n",
    "        x = all_path[i]\n",
    "        label = x.split(\"\\\\\")[-2]\n",
    "        \n",
    "        if i<= int((len(all_path))/ 3):\n",
    "            images = Image.open(all_path[i])\n",
    "            augmented_images = transforms.RandomHorizontalFlip()(images)\n",
    "            \n",
    "        elif (i> int((len(all_path))/ 3)) and (i<= 2*int((len(all_path))/ 3)):\n",
    "            images = Image.open(all_path[i])\n",
    "            augmented_images = transforms.RandomRotation(degrees=60)(images)\n",
    "\n",
    "        else:\n",
    "            images = Image.open(all_path[i])\n",
    "            augmented_images = transforms.ColorJitter()(images)\n",
    "    \n",
    "        \n",
    "        \n",
    "        if label == \"cardboard\":\n",
    "            save_path = os.path.join(\"Garbage classification\\cardboard\", f\"newcardboard{i}.jpg\")\n",
    "            augmented_images.save(save_path)\n",
    "        elif label == \"glass\":\n",
    "            save_path = os.path.join(\"Garbage classification\\glass\", f\"newglass{i}.jpg\")\n",
    "            augmented_images.save(save_path)\n",
    "        elif label == \"metal\":\n",
    "            save_path = os.path.join(\"Garbage classification\\metal\", f\"newmetal{i}.jpg\")\n",
    "            augmented_images.save(save_path)   \n",
    "        elif label == \"paper\":\n",
    "            save_path = os.path.join(\"Garbage classification\\paper\", f\"newpaper{i}.jpg\")\n",
    "            augmented_images.save(save_path)\n",
    "        elif label == \"plastic\":\n",
    "            save_path = os.path.join(\"Garbage classification\\plastic\", f\"newcplastic{i}.jpg\")\n",
    "            augmented_images.save(save_path)\n",
    "        if label == \"trash\":\n",
    "            save_path = os.path.join(\"Garbage classification\\\\trash\", f\"newtrash{i}.jpg\")\n",
    "            augmented_images.save(save_path)"
   ]
  },
  {
   "cell_type": "code",
   "execution_count": 81,
   "metadata": {},
   "outputs": [],
   "source": [
    "all_path = glob.glob(\"C:\\\\Users\\\\Sisasoft\\\\Desktop\\\\GarbageProject\\\\Garbage classification\\\\*\\\\*\")"
   ]
  },
  {
   "cell_type": "code",
   "execution_count": 82,
   "metadata": {},
   "outputs": [
    {
     "data": {
      "text/plain": [
       "15080"
      ]
     },
     "execution_count": 82,
     "metadata": {},
     "output_type": "execute_result"
    }
   ],
   "source": [
    "len(all_path)"
   ]
  },
  {
   "cell_type": "code",
   "execution_count": 69,
   "metadata": {},
   "outputs": [],
   "source": [
    "random.shuffle(all_path)\n",
    "train_set = all_path[:int(len(all_path)*0.8)]\n",
    "test_set = all_path[int(len(all_path)*0.8):]\n",
    "train_dataset = GarbageDataset(train_set)\n",
    "test_dataset = GarbageDataset(test_set)\n",
    "train_loader = DataLoader(train_dataset, batch_size=32, shuffle=True)\n",
    "test_loader = DataLoader(test_dataset, batch_size=32, shuffle=True)"
   ]
  },
  {
   "cell_type": "code",
   "execution_count": 70,
   "metadata": {},
   "outputs": [],
   "source": [
    "import torch.nn as nn\n",
    "import torch.nn.functional as F\n",
    "\n",
    "class CNNModel(nn.Module):\n",
    "    def __init__(self):\n",
    "        super(CNNModel,self).__init__()\n",
    "        self.relu = nn.ReLU()\n",
    "        self.conv1= nn.Conv2d(3,6,5)\n",
    "        self.pool=nn.MaxPool2d(4,4)\n",
    "        self.conv2=nn.Conv2d(6, 16, 5)\n",
    "        self.pool2=nn.MaxPool2d(4, 4)\n",
    "        #self.drop = nn.Dropout2d(0.2)\n",
    "        self.conv3=nn.Conv2d(16, 56, 5)\n",
    "        self.pool3=nn.MaxPool2d(4, 4)\n",
    "        self.flatten=nn.Flatten()\n",
    "        self.fc1=nn.Linear(56 *2 *2, 120)\n",
    "        self.fc2=nn.Linear(120, 84)\n",
    "        self.fc3=nn.Linear(84, 6)\n",
    "        self.sigmoid= nn.Sigmoid()\n",
    "\n",
    "    def forward(self, x):\n",
    "        x = self.pool(F.relu(self.conv1(x)))\n",
    "        #print(x.size())\n",
    "        x = self.pool2(F.relu(self.conv2(x)))\n",
    "        #print(x.size())\n",
    "        #x = F.dropout(self.drop(x), training=self.training)\n",
    "        x = self.pool3(F.relu(self.conv3(x)))\n",
    "        #print(x.size())\n",
    "        x = self.flatten(x)\n",
    "        #print(x.size())\n",
    "        x = F.relu(self.fc1(x))\n",
    "        #print(x.size())\n",
    "        x = F.relu(self.fc2(x))\n",
    "        #print(x.size())\n",
    "        x = self.fc3(x)\n",
    "        return x"
   ]
  },
  {
   "cell_type": "code",
   "execution_count": 71,
   "metadata": {},
   "outputs": [],
   "source": [
    "model = CNNModel()\n",
    "model.load_state_dict(torch.load('model.pth'))\n",
    "criterion = nn.CrossEntropyLoss()\n",
    "optimizer = optim.Adam(model.parameters(), lr=0.001)"
   ]
  },
  {
   "cell_type": "code",
   "execution_count": 76,
   "metadata": {},
   "outputs": [
    {
     "name": "stdout",
     "output_type": "stream",
     "text": [
      "Epoch 1/5: loss = 0.591\n",
      "Epoch 2/5: loss = 0.549\n",
      "Epoch 3/5: loss = 0.511\n",
      "Epoch 4/5: loss = 0.472\n",
      "Epoch 5/5: loss = 0.452\n"
     ]
    }
   ],
   "source": [
    "epochs= 5 () #variable by model\n",
    "\n",
    "for epoch in range(epochs):\n",
    "\n",
    "    model.train()\n",
    "    loss = 0\n",
    "    for i, data in enumerate(train_loader,0):\n",
    "        inputs, labels = data\n",
    "        outputs = model(inputs)\n",
    "        #print(labels)       \n",
    "        train_loss= criterion(outputs,labels.type(torch.LongTensor))\n",
    "        optimizer.zero_grad()\n",
    "        train_loss.backward() #ağırlıkları günceller\n",
    "        optimizer.step() \n",
    "        loss += train_loss.item()\n",
    "    loss = loss / len(train_loader)\n",
    "    print(f\"Epoch {epoch+1}/{epochs}:\",f\"loss = {loss :.3f}\")"
   ]
  },
  {
   "cell_type": "code",
   "execution_count": 74,
   "metadata": {},
   "outputs": [],
   "source": [
    "torch.save(model.state_dict(), 'model.pth')"
   ]
  },
  {
   "cell_type": "code",
   "execution_count": 83,
   "metadata": {},
   "outputs": [
    {
     "name": "stdout",
     "output_type": "stream",
     "text": [
      "Test loss = 1.008\n",
      "Toplam test görüntüsü için doğruluk yüzdesi:  72.566 %\n"
     ]
    }
   ],
   "source": [
    "model.eval()\n",
    "loss2 = 0\n",
    "accuracy = 0\n",
    "total = 0\n",
    "\n",
    "with torch.no_grad():\n",
    "    for i, data in enumerate(test_loader):\n",
    "        inputs, labels = data\n",
    "        outputs = model(inputs)\n",
    "        test_loss = criterion(outputs,labels.type(torch.LongTensor))\n",
    "        loss2 += test_loss.item()\n",
    "        _, predicted = torch.max(outputs, 1)\n",
    "       \n",
    "        accuracy += (predicted.type(torch.LongTensor) == labels).sum().item()\n",
    "\n",
    "\n",
    "loss2 /= (len(test_loader))\n",
    "\n",
    "accuracy /=  (len(test_loader)* 32)\n",
    "\n",
    "print(f\"Test loss = {loss2:.3f}\")\n",
    "print(f\"Toplam test görüntüsü için doğruluk yüzdesi: {100*accuracy: .3f} %\")"
   ]
  }
 ],
 "metadata": {
  "kernelspec": {
   "display_name": "base",
   "language": "python",
   "name": "python3"
  },
  "language_info": {
   "codemirror_mode": {
    "name": "ipython",
    "version": 3
   },
   "file_extension": ".py",
   "mimetype": "text/x-python",
   "name": "python",
   "nbconvert_exporter": "python",
   "pygments_lexer": "ipython3",
   "version": "3.9.13"
  },
  "orig_nbformat": 4
 },
 "nbformat": 4,
 "nbformat_minor": 2
}
